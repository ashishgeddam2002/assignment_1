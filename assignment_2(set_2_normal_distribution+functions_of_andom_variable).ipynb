{
  "nbformat": 4,
  "nbformat_minor": 0,
  "metadata": {
    "colab": {
      "provenance": [],
      "authorship_tag": "ABX9TyPErm9AoG7cADJ/sNK7OEMF",
      "include_colab_link": true
    },
    "kernelspec": {
      "name": "python3",
      "display_name": "Python 3"
    },
    "language_info": {
      "name": "python"
    }
  },
  "cells": [
    {
      "cell_type": "markdown",
      "metadata": {
        "id": "view-in-github",
        "colab_type": "text"
      },
      "source": [
        "<a href=\"https://colab.research.google.com/github/ashishgeddam2002/excelr_assignments/blob/main/assignment_2(set_2_normal_distribution%2Bfunctions_of_andom_variable).ipynb\" target=\"_parent\"><img src=\"https://colab.research.google.com/assets/colab-badge.svg\" alt=\"Open In Colab\"/></a>"
      ]
    },
    {
      "cell_type": "markdown",
      "source": [
        "Q1)answer is  B. 0.2676\n",
        "\n",
        "Explanation: -\n",
        "Given, mu = 45\n",
        "Sigma = 8\n",
        "Time available = 60 – 10 = 50\n",
        "\n",
        "Probability of work done in 50min:\n",
        "Z_val = (x_bar – mu)/sigma\n",
        "Z_val = 0.625\n",
        "\n",
        "Probability of work done in 50 min = 0.7340              (from stats.norm.cdf(z_val)\n",
        "Probability of work done not in 50 min = 1 – (Probability of work done in 50 min)\n",
        "\n",
        " = 1 – 0.7340\n",
        "\n",
        " = 0.266\n",
        "\n",
        " ~ 0.267."
      ],
      "metadata": {
        "id": "M1rSXIAWjaYl"
      }
    },
    {
      "cell_type": "markdown",
      "source": [
        "Q2)(A)More employees at the processing center are older than 44 than between 38 and 44?\n",
        "\n",
        "ans:False,the mean splits the distribution into two equal halves. Therefore, there are as many employees between the mean age (38) and 44 as there are employees older than 44.\n",
        "\n",
        "(B)A training program for employees under the age of 30 at the center would be expected to attract about 36 employees?\n",
        "\n",
        "Ans: - True.Z_val = (x_bar – mu)/sigma\n",
        "The probability value of z value -1.33 is 0.0918. Which represents the probability that an employee will be under 30 years old.Therefore, the expected number of employees under 30 is:\n",
        "0.0918*400=36.72"
      ],
      "metadata": {
        "id": "I0UFP2cGkWR4"
      }
    },
    {
      "cell_type": "markdown",
      "source": [
        "Q3) :2X1 is normally distributed with mean 2μ and variance 4σ².\n",
        "\n",
        ":X1 + X2 is normally distributed with mean 2μ and variance 2σ².\n",
        "\n",
        "While both expressions have the same mean, but they have different variances. The variance of 2X1 is larger, indicating that values of 2X1 are more spread out around the mean than values of X1 + X2. This is because 2X1 represents a scaling of a single random variable, while X1 + X2 represents the sum of two independent random variables.\n"
      ],
      "metadata": {
        "id": "WTw_DFUolPAl"
      }
    },
    {
      "cell_type": "markdown",
      "source": [
        "Q4) μ = 100 and σ² = 20, sigma = √20 = 4.47\n",
        "\n",
        "P(a < X < b) = 0.99, given condition\n",
        "\n",
        "P(a < X < b) = P(X < b) - P(X < a)\n",
        "\n",
        "Because a and b are symmetric about the mean, P(X < b) = 1 - P(X < a). Therefore, we have:\n",
        "\n",
        "P(a < X < b) = 2P(X < b) - 1\n",
        "\n",
        "this equal to 0.99, we get P(X < b) = (0.99 + 1) / 2 = 0.995.\n",
        "\n",
        "  a = 2μ - b-----       b = μ + σZ\n",
        "\n",
        "where z = 0.84 from stats.norm.cdf(0.995)\n",
        "\n",
        "a,b = (96.2452,103.7548) ~ (90.1,109.)."
      ],
      "metadata": {
        "id": "-uXlck8EmjEE"
      }
    },
    {
      "cell_type": "markdown",
      "source": [
        "Q5)\n",
        "Specify a Rupee range (centered on the mean) such that it contains 95% probability for the annual profit of the company?\n",
        "\n",
        "ANS:Total profits = profit_1 + profit_2 i.e.,\n",
        " total profit = N(5 + 7, 3 + 4) = N(12, 7), standard deviation is √7  = 2.65.\n",
        "\n",
        "A range centered on the mean that contains 95% probability for a normal distribution extends approximately 1.96 standard deviations on either side of the mean. So,\n",
        "(12 - 1.96 * 2.65, 12 + 1.96 * 2.65) = (6.81, 17.19).\n",
        "Converting million dollars into million rupees (1$ = 80 approx.)\n",
        "(80*6.81, 80*17.19) = (54408, 1375.2) million rupees.\n",
        "\n",
        "\n",
        "\n",
        "(B)Specify the 5th percentile of profit (in Rupees) for the company?\n",
        "\n",
        "Ans: - The 5th percentile of profit is the value below which 5% of the observations may fall. For a normal distribution, this is given by the mean minus 1.645 standard deviations (since 1.645 is the z-score that corresponds to a cumulative probability of 0.05).\n",
        "So, the 5th percentile in dollars is 12 - 1.645 * 2.65 = 7.63.\n",
        "Converting to million rupees = 7.63 *80 = 610.4\n",
        "\n",
        "\n",
        "(C)Which of the two divisions has a larger probability of making a loss in a given year?\n",
        "\n",
        "Ans: - For Profit1 ~ N(5, 3), the z-score at zero is (0 - 5) / √3 = -2.89, which corresponds to a probability of approximately 0.002.\n",
        "For Profit2 ~ N(7, 4), the z-score at zero is (0 - 7) / √4 = -3.5, which corresponds to a probability of approximately 0.0002.\n",
        "So, the first division has a larger probability of making a loss in a given year.\n"
      ],
      "metadata": {
        "id": "JctlK69Dm0Oa"
      }
    },
    {
      "cell_type": "markdown",
      "source": [],
      "metadata": {
        "id": "4TZoAQIwngNF"
      }
    },
    {
      "cell_type": "code",
      "execution_count": null,
      "metadata": {
        "id": "fQ0AKWPNjOD3"
      },
      "outputs": [],
      "source": []
    }
  ]
}